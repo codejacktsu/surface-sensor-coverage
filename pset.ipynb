{
 "cells": [
  {
   "cell_type": "code",
   "execution_count": 1,
   "metadata": {},
   "outputs": [],
   "source": [
    "import numpy as np"
   ]
  },
  {
   "cell_type": "code",
   "execution_count": 61,
   "metadata": {},
   "outputs": [],
   "source": [
    "mu_earth = 398600.4418  # km^3/s^2\n",
    "mu_moon = 4902.8  # km^3/s^2\n",
    "T = 27.32 * 24 * 60 * 60  # in seconds\n",
    "R = 384400  # km\n",
    "\n",
    "def vector_moon(t):\n",
    "    return np.array([R*np.cos(2*np.pi/T*t), R*np.sin(2*np.pi/T*t), 0])\n",
    "\n",
    "def equation_of_motion(r_craft, t, v):\n",
    "    r_craft_moon = r_craft - vector_moon(t)\n",
    "    result_vector = -(r_craft_moon * mu_moon) / np.linalg.norm(r_craft_moon)**3 - r_craft * mu_earth / np.linalg.norm(r_craft)\n",
    "    return result_vector\n",
    "\n",
    "def degree_angle(A, B) -> float:\n",
    "    \"\"\"Double check\"\"\"\n",
    "    cos_theta = np.dot(A,B) / (np.linalg.norm(A) * np.linalg.norm(B))\n",
    "    angle = np.arccos(cos_theta)\n",
    "    return np.degrees(angle)\n",
    "\n",
    "def is_visible(r_target, t) -> bool:\n",
    "    # constant\n",
    "    max_range = 2000\n",
    "\n",
    "    r_sensor = vector_sensor(t)\n",
    "    distance = np.linalg.norm(r_target - r_sensor)\n",
    "    angle = degree_angle(r_target, r_sensor)\n",
    "    if distance > max_range or angle > 40:\n",
    "        return False\n",
    "    return True\n",
    "\n",
    "def vector_sensor(t):\n",
    "    r_sensor_moon = np.array([0, 0, -1736])\n",
    "    return vector_moon(t) + r_sensor_moon\n"
   ]
  },
  {
   "cell_type": "code",
   "execution_count": null,
   "metadata": {},
   "outputs": [],
   "source": [
    "r_target = np.array([325.59, 446.71, 1791.67])\n",
    "v_target = np.array([-1.78, 0.08, 0.3])"
   ]
  },
  {
   "cell_type": "code",
   "execution_count": 65,
   "metadata": {},
   "outputs": [
    {
     "data": {
      "text/plain": [
       "np.float64(0.0)"
      ]
     },
     "execution_count": 65,
     "metadata": {},
     "output_type": "execute_result"
    }
   ],
   "source": [
    "# for t in range(86400+1):\n",
    "    \n",
    "\n",
    "A = np.array([0, 0, -1])\n",
    "B = np.array([0, 0, -1700])\n",
    "\n",
    "degree_angle(A, B)"
   ]
  }
 ],
 "metadata": {
  "kernelspec": {
   "display_name": "venv",
   "language": "python",
   "name": "python3"
  },
  "language_info": {
   "codemirror_mode": {
    "name": "ipython",
    "version": 3
   },
   "file_extension": ".py",
   "mimetype": "text/x-python",
   "name": "python",
   "nbconvert_exporter": "python",
   "pygments_lexer": "ipython3",
   "version": "3.11.4"
  }
 },
 "nbformat": 4,
 "nbformat_minor": 2
}
