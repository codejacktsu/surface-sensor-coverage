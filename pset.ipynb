{
 "cells": [
  {
   "cell_type": "code",
   "execution_count": 1,
   "metadata": {},
   "outputs": [],
   "source": [
    "import numpy as np"
   ]
  },
  {
   "cell_type": "code",
   "execution_count": 146,
   "metadata": {},
   "outputs": [],
   "source": [
    "mu_earth = 398600.4418  # km^3/s^2\n",
    "mu_moon = 4902.8  # km^3/s^2\n",
    "T = 27.32 * 24 * 60 * 60  # in seconds\n",
    "R = 384400  # km\n",
    "\n",
    "def vector_moon(t):\n",
    "    return np.array([R*np.cos(2*np.pi/T*t), R*np.sin(2*np.pi/T*t), 0])\n",
    "\n",
    "def cislunar_gravity(r_craft, t):\n",
    "    r_craft_moon = r_craft - vector_moon(t)\n",
    "    moon_influence = -(r_craft_moon * mu_moon) / np.linalg.norm(r_craft_moon)**3\n",
    "    earth_influence = -r_craft * mu_earth / np.linalg.norm(r_craft)**3\n",
    "    return moon_influence + earth_influence\n",
    "\n",
    "def degree_angle(A, B) -> float:\n",
    "    \"\"\"Double check\"\"\"\n",
    "    cos_theta = np.dot(A,B) / (np.linalg.norm(A) * np.linalg.norm(B))\n",
    "    angle = np.arccos(cos_theta)\n",
    "    return np.degrees(angle)\n",
    "\n",
    "def is_visible(r_sensor, r_target) -> bool:\n",
    "    # constant\n",
    "    max_range = 2000\n",
    "\n",
    "    distance = np.linalg.norm(r_sensor - r_target)\n",
    "    angle = degree_angle(r_sensor, r_target)\n",
    "    if distance > max_range or angle > 40:\n",
    "        return False\n",
    "    return True\n",
    "\n",
    "def vector_sensor(t):\n",
    "    r_sensor_moon = np.array([0, 0, -1736])\n",
    "    return vector_moon(t) + r_sensor_moon\n"
   ]
  },
  {
   "cell_type": "code",
   "execution_count": 157,
   "metadata": {},
   "outputs": [],
   "source": [
    "# initial state: set relative to Earth\n",
    "pos_craft = np.array([325.59, 446.71, 1791.67]) + vector_moon(0)\n",
    "v_craft = np.array([-1.78, 0.08, 0.3]) + (vector_moon(1) - vector_moon(0))\n",
    "\n",
    "# simulation\n",
    "history = []\n",
    "for t in range(1, 86400):\n",
    "    a_craft = cislunar_gravity(pos_craft, t)\n",
    "    v_craft += a_craft  # update velocity\n",
    "    pos_craft += v_craft # Update position\n",
    "    pos_sensor = vector_sensor(t)\n",
    "    pos_moon = vector_moon(t)\n",
    "    vis = is_visible(pos_sensor, pos_craft)\n",
    "    angle = degree_angle(pos_sensor, pos_craft)\n",
    "    history.append({'moon': pos_moon,\n",
    "                    'sensor': pos_sensor,\n",
    "                    'craft': pos_craft,\n",
    "                    'angle': angle,\n",
    "                    'isVisible': vis,\n",
    "                    'acceleration': a_craft,\n",
    "                    'velocity': v_craft})\n"
   ]
  }
 ],
 "metadata": {
  "kernelspec": {
   "display_name": "venv",
   "language": "python",
   "name": "python3"
  },
  "language_info": {
   "codemirror_mode": {
    "name": "ipython",
    "version": 3
   },
   "file_extension": ".py",
   "mimetype": "text/x-python",
   "name": "python",
   "nbconvert_exporter": "python",
   "pygments_lexer": "ipython3",
   "version": "3.11.4"
  }
 },
 "nbformat": 4,
 "nbformat_minor": 2
}
